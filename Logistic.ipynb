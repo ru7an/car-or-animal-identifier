{
 "cells": [
  {
   "cell_type": "code",
   "execution_count": 1,
   "metadata": {},
   "outputs": [],
   "source": [
    "import numpy as np\n",
    "import pandas as pd\n",
    "import matplotlib.pyplot as plt\n",
    "import h5py\n",
    "\n",
    "from PIL import Image\n",
    "import scipy"
   ]
  },
  {
   "cell_type": "code",
   "execution_count": 2,
   "metadata": {},
   "outputs": [],
   "source": [
    "def sigmoid(z):\n",
    "    s = 1/(1+np.exp(-z))\n",
    "    return s"
   ]
  },
  {
   "cell_type": "code",
   "execution_count": 3,
   "metadata": {},
   "outputs": [],
   "source": [
    "def initialize_with_zero(dim):\n",
    "    w = np.zeros((dim, 1))\n",
    "    b = 0\n",
    "\n",
    "    assert(w.shape == (dim,1))\n",
    "    assert(isinstance(b, float) or isinstance(b, int))\n",
    "    return w,b"
   ]
  },
  {
   "cell_type": "code",
   "execution_count": 4,
   "metadata": {},
   "outputs": [],
   "source": [
    "def propagate(w, b, X, Y):\n",
    "    m = X.shape[1]\n",
    "    A = sigmoid(np.dot(w.T,X)+b)\n",
    "    \n",
    "    cost = np.sum(-(Y*np.log(A)+(1-Y)*np.log(1-A)))/m\n",
    "\n",
    "    dw = (np.dot(X, (A-Y).T))/m\n",
    "    db = np.sum(A-Y)/m\n",
    "    \n",
    "    assert(dw.shape == w.shape)\n",
    "    assert(db.dtype == float)\n",
    "    cost = np.squeeze(cost)\n",
    "    assert(cost.shape == ())\n",
    "    \n",
    "    grads = {\"dw\": dw,\n",
    "             \"db\": db}\n",
    "    \n",
    "    return grads, cost"
   ]
  },
  {
   "cell_type": "code",
   "execution_count": 5,
   "metadata": {},
   "outputs": [],
   "source": [
    "def optimize(w, b, X, Y, num_iterations, learning_rate, print_cost = False):\n",
    "    costs = []\n",
    "    \n",
    "    for i in range(num_iterations):\n",
    "        grads, cost = propagate(w, b, X, Y)\n",
    "    \n",
    "        dw = grads[\"dw\"]\n",
    "        db = grads[\"db\"]\n",
    "        \n",
    "        w = w-learning_rate*dw\n",
    "        b = b-learning_rate*db\n",
    "        \n",
    "        if i % 100 == 0:\n",
    "            costs.append(cost)\n",
    "        \n",
    "        if print_cost and i % 100 == 0:\n",
    "            print (\"Cost after iteration %i: %f\" %(i, cost))\n",
    "    \n",
    "    params = {\"w\": w,\n",
    "              \"b\": b}\n",
    "    \n",
    "    grads = {\"dw\": dw,\n",
    "             \"db\": db}\n",
    "    \n",
    "    return params, grads, costs"
   ]
  },
  {
   "cell_type": "code",
   "execution_count": 6,
   "metadata": {},
   "outputs": [],
   "source": [
    "def predict(w, b, X):\n",
    "    m = X.shape[1]\n",
    "    y_pred = np.zeros((1, m))\n",
    "    w = w.reshape(X.shape[0], 1)\n",
    "    A = sigmoid(np.dot(w.T, X)+b)\n",
    "\n",
    "    for i in range(A.shape[1]):\n",
    "        A = A.reshape(m,)\n",
    "        Y_hat = y_pred.reshape(m,)\n",
    "        if(A[i]<=0.5):\n",
    "            Y_hat[i]=0\n",
    "        elif(A[i]>0.5):\n",
    "            Y_hat[i]=1\n",
    "    assert(y_pred.shape == (1, m))\n",
    "\n",
    "    return y_pred"
   ]
  },
  {
   "cell_type": "code",
   "execution_count": 7,
   "metadata": {},
   "outputs": [],
   "source": [
    "def model(X_train, Y_train, X_test, Y_test, num_iterations = 2000, learning_rate = 0.5, print_cost = False):\n",
    "    w, b = initialize_with_zero(X_train.shape[0])\n",
    "\n",
    "    parameters, grads, costs = optimize(w, b, X_train, Y_train, num_iterations, learning_rate, print_cost)\n",
    "    \n",
    "    w = parameters[\"w\"]\n",
    "    b = parameters[\"b\"]\n",
    "    \n",
    "    Y_prediction_test = predict(w,b,X_test)\n",
    "    Y_prediction_train = predict(w,b,X_train)\n",
    "\n",
    "    print(\"train accuracy: {} %\".format(100 - np.mean(np.abs(Y_prediction_train - Y_train)) * 100))\n",
    "    print(\"test accuracy: {} %\".format(100 - np.mean(np.abs(Y_prediction_test - Y_test)) * 100))\n",
    "\n",
    "    \n",
    "    d = {\"costs\": costs,\n",
    "         \"Y_prediction_test\": Y_prediction_test, \n",
    "         \"Y_prediction_train\" : Y_prediction_train, \n",
    "         \"w\" : w, \n",
    "         \"b\" : b,\n",
    "         \"learning_rate\" : learning_rate,\n",
    "         \"num_iterations\": num_iterations}\n",
    "    \n",
    "    return d"
   ]
  },
  {
   "source": [
    "### CONVERTING IMAGES INTO ARRAY AND MAKING A DATASET"
   ],
   "cell_type": "markdown",
   "metadata": {}
  },
  {
   "cell_type": "code",
   "execution_count": 8,
   "metadata": {},
   "outputs": [],
   "source": [
    "import os\n",
    "from numpy import asarray"
   ]
  },
  {
   "cell_type": "code",
   "execution_count": 9,
   "metadata": {},
   "outputs": [],
   "source": [
    "train_dir_cars = os.path.join('train/cars')\n",
    "test_dir_cars = os.path.join('test/cars')\n",
    "train_dir_dogs = os.path.join('train/dogs')\n",
    "test_dir_dogs = os.path.join('test/dogs')\n",
    "\n",
    "list_train_cars = os.listdir(train_dir_cars)\n",
    "list_test_cars = os.listdir(test_dir_cars)\n",
    "list_train_dogs = os.listdir(train_dir_dogs)\n",
    "list_test_dogs = os.listdir(test_dir_dogs)"
   ]
  },
  {
   "cell_type": "code",
   "execution_count": 10,
   "metadata": {},
   "outputs": [],
   "source": [
    "X_cars_train = []\n",
    "y_cars_train = []\n",
    "\n",
    "for i in range(750):\n",
    "    img = 'train/cars/'+str(list_train_cars[i])\n",
    "    im = Image.open(img)\n",
    "    ima = im.resize((70, 70))\n",
    "    image = asarray(ima)\n",
    "    y_op = 0\n",
    "    X_cars_train.append(image)\n",
    "    y_cars_train.append(y_op)"
   ]
  },
  {
   "cell_type": "code",
   "execution_count": 11,
   "metadata": {},
   "outputs": [],
   "source": [
    "X_cars_test = []\n",
    "y_cars_test = []\n",
    "\n",
    "for i in range(250):\n",
    "    img = 'test/cars/'+str(list_test_cars[i])\n",
    "    im = Image.open(img)\n",
    "    ima = im.resize((70, 70))\n",
    "    image = asarray(ima)\n",
    "    y_op = 0\n",
    "    X_cars_test.append(image)\n",
    "    y_cars_test.append(y_op)"
   ]
  },
  {
   "cell_type": "code",
   "execution_count": 12,
   "metadata": {},
   "outputs": [],
   "source": [
    "X_dogs_train = []\n",
    "y_dogs_train = []\n",
    "\n",
    "for i in range(750):\n",
    "    img = 'train/dogs/'+str(list_train_dogs[i])\n",
    "    im = Image.open(img)\n",
    "    ima = im.resize((70, 70))\n",
    "    image = asarray(ima)\n",
    "    y_op = 1\n",
    "    X_dogs_train.append(image)\n",
    "    y_dogs_train.append(y_op)"
   ]
  },
  {
   "cell_type": "code",
   "execution_count": 13,
   "metadata": {},
   "outputs": [],
   "source": [
    "X_dogs_test = []\n",
    "y_dogs_test = []\n",
    "for i in range(250):\n",
    "    img = 'test/dogs/'+str(list_test_dogs[i])\n",
    "    im = Image.open(img)\n",
    "    ima = im.resize((70, 70))\n",
    "    image = asarray(ima)\n",
    "    y_op = 0\n",
    "    X_dogs_test.append(image)\n",
    "    y_dogs_test.append(y_op)"
   ]
  },
  {
   "cell_type": "code",
   "execution_count": 14,
   "metadata": {},
   "outputs": [],
   "source": [
    "train_set_x = X_cars_train+X_dogs_train\n",
    "test_set_x = X_cars_test+X_dogs_test\n",
    "train_set_y = y_cars_train+y_dogs_train\n",
    "test_set_y = y_cars_test+y_dogs_test"
   ]
  },
  {
   "cell_type": "code",
   "execution_count": 15,
   "metadata": {},
   "outputs": [],
   "source": [
    "def load_data():\n",
    "    df_train = pd.DataFrame()\n",
    "    df_test = pd.DataFrame()\n",
    "    df_train['img'] = train_set_x\n",
    "    df_test['img'] = test_set_x\n",
    "    df_train['id'] = train_set_y\n",
    "    df_test['id'] = test_set_y\n",
    "\n",
    "    classes = np.array([b'car',b'dog'])\n",
    "\n",
    "    return df_train['img'], df_train['id'], df_test['img'], df_test['id'], classes"
   ]
  },
  {
   "cell_type": "code",
   "execution_count": 17,
   "metadata": {},
   "outputs": [],
   "source": [
    "train_set_x, train_set_y, test_set_x, test_set_y, classes = load_data()"
   ]
  },
  {
   "cell_type": "code",
   "execution_count": 18,
   "metadata": {},
   "outputs": [],
   "source": [
    "x_train_orig = np.array( [train_set_x[i] for i in range(len(train_set_x))] )"
   ]
  },
  {
   "cell_type": "code",
   "execution_count": 19,
   "metadata": {},
   "outputs": [],
   "source": [
    "x_test_orig = np.array( [test_set_x[i] for i in range(len(test_set_x))] )"
   ]
  },
  {
   "cell_type": "code",
   "execution_count": 20,
   "metadata": {},
   "outputs": [],
   "source": [
    "train_set_x_flatten = x_train_orig.reshape(x_train_orig.shape[0], -1).T\n",
    "test_set_x_flatten = x_test_orig.reshape(x_test_orig.shape[0], -1).T"
   ]
  },
  {
   "cell_type": "code",
   "execution_count": 21,
   "metadata": {},
   "outputs": [],
   "source": [
    "train_x = train_set_x_flatten/255\n",
    "test_x = test_set_x_flatten/255"
   ]
  },
  {
   "cell_type": "code",
   "execution_count": 22,
   "metadata": {},
   "outputs": [
    {
     "data": {
      "text/plain": [
       "(1, 1500)"
      ]
     },
     "execution_count": 22,
     "metadata": {},
     "output_type": "execute_result"
    }
   ],
   "source": [
    "train_y = np.array(train_set_y)\n",
    "train_y = train_y.reshape((1,train_set_y.shape[0]))\n",
    "train_y.shape"
   ]
  },
  {
   "cell_type": "code",
   "execution_count": 23,
   "metadata": {},
   "outputs": [
    {
     "data": {
      "text/plain": [
       "(1, 500)"
      ]
     },
     "execution_count": 23,
     "metadata": {},
     "output_type": "execute_result"
    }
   ],
   "source": [
    "test_y = np.array(test_set_y)\n",
    "test_y = test_y.reshape((1,test_set_y.shape[0]))\n",
    "test_y.shape"
   ]
  },
  {
   "source": [
    "### PERFORMANCE OF THE MODEL"
   ],
   "cell_type": "markdown",
   "metadata": {}
  },
  {
   "cell_type": "code",
   "execution_count": 24,
   "metadata": {},
   "outputs": [
    {
     "name": "stdout",
     "output_type": "stream",
     "text": [
      "Cost after iteration 0: 0.693147\n",
      "Cost after iteration 100: 0.644606\n",
      "Cost after iteration 200: 0.552359\n",
      "Cost after iteration 300: 0.505835\n",
      "Cost after iteration 400: 0.473185\n",
      "Cost after iteration 500: 0.447059\n",
      "Cost after iteration 600: 0.425099\n",
      "Cost after iteration 700: 0.406161\n",
      "Cost after iteration 800: 0.389541\n",
      "Cost after iteration 900: 0.374741\n",
      "Cost after iteration 1000: 0.361398\n",
      "Cost after iteration 1100: 0.349257\n",
      "Cost after iteration 1200: 0.338100\n",
      "Cost after iteration 1300: 0.327777\n",
      "Cost after iteration 1400: 0.318160\n",
      "Cost after iteration 1500: 0.309150\n",
      "Cost after iteration 1600: 0.300670\n",
      "Cost after iteration 1700: 0.292655\n",
      "Cost after iteration 1800: 0.285055\n",
      "Cost after iteration 1900: 0.277830\n",
      "train accuracy: 89.33333333333333 %\n",
      "test accuracy: 40.2 %\n"
     ]
    }
   ],
   "source": [
    "d = model(train_x, train_y, test_x, test_y, num_iterations = 2000, learning_rate = 0.005, print_cost = True)"
   ]
  },
  {
   "cell_type": "code",
   "execution_count": 27,
   "metadata": {},
   "outputs": [
    {
     "data": {
      "image/png": "[encoded data removed]",
      "text/plain": [
       "<Figure size 432x288 with 1 Axes>"
      ]
     },
     "metadata": {
      "needs_background": "light"
     },
     "output_type": "display_data"
    }
   ],
   "source": [
    "costs = np.squeeze(d['costs'])\n",
    "plt.plot(costs)\n",
    "plt.ylabel('cost')\n",
    "plt.xlabel('iterations (per hundreds)')\n",
    "plt.title(\"Learning rate =\" + str(d[\"learning_rate\"]))\n",
    "plt.show()"
   ]
  },
  {
   "source": [
    "### PREDICTION "
   ],
   "cell_type": "markdown",
   "metadata": {}
  },
  {
   "cell_type": "code",
   "execution_count": 26,
   "metadata": {},
   "outputs": [
    {
     "name": "stdout",
     "output_type": "stream",
     "text": [
      "y = 1.0, your algorithm predicts a \"dog\" picture.\n"
     ]
    },
    {
     "data": {
      "image/png": "[encoded data removed]",
      "text/plain": [
       "<Figure size 432x288 with 1 Axes>"
      ]
     },
     "metadata": {
      "needs_background": "light"
     },
     "output_type": "display_data"
    }
   ],
   "source": [
    "fname = 'test/dogs/'+str(list_test_dogs[877])\n",
    "im = Image.open(fname)\n",
    "ima = im.resize((70, 70))\n",
    "image = asarray(ima)\n",
    "my_image = image.reshape((1, 70*70*3)).T\n",
    "my_predicted_image = predict(d[\"w\"], d[\"b\"], my_image)\n",
    "\n",
    "plt.imshow(image)\n",
    "print(\"y = \" + str(np.squeeze(my_predicted_image)) + \", your algorithm predicts a \\\"\" + classes[int(np.squeeze(my_predicted_image)),].decode(\"utf-8\") +  \"\\\" picture.\")"
   ]
  },
  {
   "cell_type": "code",
   "execution_count": null,
   "metadata": {},
   "outputs": [],
   "source": []
  }
 ],
 "metadata": {
  "kernelspec": {
   "display_name": "Python 3",
   "language": "python",
   "name": "python3"
  },
  "language_info": {
   "codemirror_mode": {
    "name": "ipython",
    "version": 3
   },
   "file_extension": ".py",
   "mimetype": "text/x-python",
   "name": "python",
   "nbconvert_exporter": "python",
   "pygments_lexer": "ipython3",
   "version": "3.8.3"
  }
 },
 "nbformat": 4,
 "nbformat_minor": 4
}